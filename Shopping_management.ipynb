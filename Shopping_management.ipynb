{
 "cells": [
  {
   "cell_type": "code",
   "execution_count": 4,
   "metadata": {},
   "outputs": [
    {
     "name": "stdout",
     "output_type": "stream",
     "text": [
      "Enter the total price: 10\n",
      "Enter Jalal's items number: 2\n",
      "Enter Shahin's items number: 1\n",
      "Enter Jalal's item: 1\n",
      "Enter Jalal's item: 1\n",
      "2.0\n",
      "Enter Shahin's item: 2\n",
      "Shahin will pay: \n",
      "6.0\n"
     ]
    }
   ],
   "source": [
    "Total_price=float(input(\"Enter the total price: \"))\n",
    "Jalal_stuffs=[]\n",
    "Shahin_stuffs=[]\n",
    "Jalal_sum=0\n",
    "Shahin_sum=0\n",
    "Jalal_items_number=int(input(\"Enter Jalal's items number: \"))\n",
    "Shahin_items_number=int(input(\"Enter Shahin's items number: \"))\n",
    "i=0\n",
    "j=0\n",
    "\n",
    "while i<Jalal_items_number:\n",
    "    Jalal_stuff=float(input(\"Enter Jalal's item: \"))\n",
    "    Jalal_stuffs.append(Jalal_stuff)\n",
    "    i+=1\n",
    "    \n",
    "for n in Jalal_stuffs:\n",
    "    Jalal_sum+=n\n",
    "    \n",
    "print(Jalal_sum)\n",
    "\n",
    "Shared_price=(Total_price-Jalal_sum-Shahin_sum)/2\n",
    "\n",
    "while j<Shahin_items_number:\n",
    "    Shahin_stuff=float(input(\"Enter Shahin's item: \"))\n",
    "    Shahin_stuffs.append(Shahin_stuff)\n",
    "    j+=1\n",
    "\n",
    "for j in Shahin_stuffs:\n",
    "    Shahin_sum+=j\n",
    "\n",
    "Shahin_to_Jalal=Shared_price+Shahin_sum\n",
    "print('Shahin will pay: ')   \n",
    "print(Shahin_to_Jalal)\n"
   ]
  },
  {
   "cell_type": "markdown",
   "metadata": {},
   "source": [
    "# "
   ]
  }
 ],
 "metadata": {
  "kernelspec": {
   "display_name": "Python 3",
   "language": "python",
   "name": "python3"
  },
  "language_info": {
   "codemirror_mode": {
    "name": "ipython",
    "version": 3
   },
   "file_extension": ".py",
   "mimetype": "text/x-python",
   "name": "python",
   "nbconvert_exporter": "python",
   "pygments_lexer": "ipython3",
   "version": "3.8.3"
  }
 },
 "nbformat": 4,
 "nbformat_minor": 4
}
